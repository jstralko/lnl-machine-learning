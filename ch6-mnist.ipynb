{
  "nbformat": 4,
  "nbformat_minor": 0,
  "metadata": {
    "colab": {
      "name": "Untitled0.ipynb",
      "version": "0.3.2",
      "provenance": [],
      "collapsed_sections": [],
      "include_colab_link": true
    },
    "kernelspec": {
      "name": "python3",
      "display_name": "Python 3"
    }
  },
  "cells": [
    {
      "cell_type": "markdown",
      "metadata": {
        "id": "view-in-github",
        "colab_type": "text"
      },
      "source": [
        "<a href=\"https://colab.research.google.com/github/jstralko/lnl-machine-learning/blob/master/ch6-mnist.ipynb\" target=\"_parent\"><img src=\"https://colab.research.google.com/assets/colab-badge.svg\" alt=\"Open In Colab\"/></a>"
      ]
    },
    {
      "cell_type": "markdown",
      "metadata": {
        "id": "QYlw3n7spZtI",
        "colab_type": "text"
      },
      "source": [
        "\n",
        "Here’s the code that loads MNIST images into X:"
      ]
    },
    {
      "cell_type": "code",
      "metadata": {
        "id": "Zfxfl4-4pmSV",
        "colab_type": "code",
        "colab": {}
      },
      "source": [
        "import numpy as np\n",
        "import gzip\n",
        "import struct\n",
        "import requests\n",
        "import io\n",
        "\n",
        "def fetch_file(filename):\n",
        "  r = requests.get('https://raw.githubusercontent.com/lazyprogrammer/machine_learning_examples/master/tensorflow/MNIST_data/' + filename)\n",
        "  return io.BytesIO(r.content)\n",
        "\n",
        "def load_images(filename):\n",
        "  \n",
        "  # Open and unzip the file of images:\n",
        "  with gzip.open(fetch_file(filename), 'rb') as f:\n",
        "  \n",
        "    # Read the header information into a bunch of variables:\n",
        "    _ignored, n_images, columns, rows = struct.unpack('>IIII', f.read(16))\n",
        "    # Read all the pixels into a NumPy array:\n",
        "    all_pixels = np.frombuffer(f.read(), dtype=np.uint8)\n",
        "  \n",
        "    # Reshape the pixels into a matrix where each line is an image:\n",
        "    return all_pixels.reshape(n_images, columns * rows)\n",
        "\n",
        "def prepend_bias(X):\n",
        "  # Insert a column of 1s in the position 0 of X.\n",
        "  # (“axis=1” stands for: “insert a column, not a row”)\n",
        "  return np.insert(X, 0, 1, axis=1)\n",
        "  \n",
        "# 60000 images, each 785 elements (1 bias + 28 * 28 pixels)\n",
        "X_train = prepend_bias(load_images(\"train-images-idx3-ubyte.gz\"))\n",
        "# 10000 images, each 785 elements, with the same structure as X_train\n",
        "X_test = prepend_bias(load_images(\"t10k-images-idx3-ubyte.gz\"))"
      ],
      "execution_count": 0,
      "outputs": []
    },
    {
      "cell_type": "markdown",
      "metadata": {
        "id": "xYFyEuxlr028",
        "colab_type": "text"
      },
      "source": [
        "Should have training and test data. See X_train, X_test\n",
        "\n",
        "```\n",
        "(60000, 785)\n",
        "(10000, 785)\n",
        "```"
      ]
    },
    {
      "cell_type": "code",
      "metadata": {
        "id": "1kDxZAUxr5ct",
        "colab_type": "code",
        "colab": {
          "base_uri": "https://localhost:8080/",
          "height": 136
        },
        "outputId": "e894bc1a-ab90-4405-8de8-d9a4fb8bd2d7"
      },
      "source": [
        "print(X_train.shape)\n",
        "print(X_test.shape)\n",
        "\n",
        "#See the bias loaded\n",
        "for i in range (0,5):\n",
        "  print(X_train[i][0])"
      ],
      "execution_count": 36,
      "outputs": [
        {
          "output_type": "stream",
          "text": [
            "(60000, 785)\n",
            "(10000, 785)\n",
            "1\n",
            "1\n",
            "1\n",
            "1\n",
            "1\n"
          ],
          "name": "stdout"
        }
      ]
    },
    {
      "cell_type": "markdown",
      "metadata": {
        "id": "5TGx0C8exB_N",
        "colab_type": "text"
      },
      "source": [
        "This code loads and prepares MNIST’s labels:"
      ]
    },
    {
      "cell_type": "code",
      "metadata": {
        "id": "UFlpeFEqxC3e",
        "colab_type": "code",
        "colab": {}
      },
      "source": [
        "def load_labels(filename):\n",
        "  # Open and unzip the file of images:\n",
        "  with gzip.open(fetch_file(filename), 'rb') as f:\n",
        "    # Skip the header bytes:\n",
        "    f.read(8)\n",
        "    \n",
        "    # Read all the labels into a list:\n",
        "    all_labels = f.read()\n",
        "    \n",
        "    # Reshape the list of labels into a one-column matrix:\n",
        "    return np.frombuffer(all_labels, dtype=np.uint8).reshape(-1, 1)\n",
        "\n",
        "def encode_fives(Y):\n",
        "  encoded_Y = np.zeros_like(Y)\n",
        "  n_labels = Y.shape[0]\n",
        "  for i in range(n_labels):\n",
        "    if Y[i] == 5: \n",
        "      encoded_Y[i][0] = 1\n",
        "  return encoded_Y\n",
        "\n",
        "# 60K labels, each with value 1 if the digit is a five, and 0 otherwise\n",
        "Y_label = load_labels(\"train-labels-idx1-ubyte.gz\")\n",
        "Y_train = encode_fives(Y_label)\n",
        "# 10000 labels, with the same encoding as Y_train\n",
        "Y_test_label = load_labels(\"t10k-labels-idx1-ubyte.gz\")\n",
        "Y_test = encode_fives(Y_test_label)\n"
      ],
      "execution_count": 0,
      "outputs": []
    },
    {
      "cell_type": "markdown",
      "metadata": {
        "id": "XbSxuqluzeSE",
        "colab_type": "text"
      },
      "source": [
        "Should be this:\n",
        "\n",
        "```\n",
        "(60000, 1)\n",
        "(10000, 1)\n",
        "```"
      ]
    },
    {
      "cell_type": "code",
      "metadata": {
        "id": "y881NduOzgMi",
        "colab_type": "code",
        "colab": {
          "base_uri": "https://localhost:8080/",
          "height": 85
        },
        "outputId": "20a544d6-b2e0-4b50-d817-0c37385d4893"
      },
      "source": [
        "print(Y_train.shape)\n",
        "print(Y_test.shape)\n",
        "\n",
        "#How many 5s    \n",
        "print(len(list(filter(lambda x: x == 0 , Y_train))))\n",
        "#How many not 5s\n",
        "print(len(list(filter(lambda x: x == 1 , Y_train))))"
      ],
      "execution_count": 42,
      "outputs": [
        {
          "output_type": "stream",
          "text": [
            "(60000, 1)\n",
            "(10000, 1)\n",
            "54579\n",
            "5421\n"
          ],
          "name": "stdout"
        }
      ]
    },
    {
      "cell_type": "markdown",
      "metadata": {
        "id": "lNTqBIVr3NoU",
        "colab_type": "text"
      },
      "source": [
        "The fun part. First add the Logistic Regress from chapter 5:"
      ]
    },
    {
      "cell_type": "code",
      "metadata": {
        "id": "z_dbu9Db3Pdu",
        "colab_type": "code",
        "colab": {}
      },
      "source": [
        "#Chapter 5: page 66\n",
        "\n",
        "def sigmoid(z):\n",
        "    return 1 / (1 + np.exp(-z))\n",
        "\n",
        "# Forward propagation: moving data\n",
        "# through the system\n",
        "def forward(X, w):\n",
        "    weighted_sum = np.matmul(X, w)\n",
        "    return sigmoid(weighted_sum)\n",
        "\n",
        "#Formerly predict()\n",
        "def classify(X, w):\n",
        "    return np.round(forward(X, w))\n",
        "\n",
        "def loss(X, Y, w):\n",
        "    y_hat = forward(X, w)\n",
        "    first_term = Y * np.log(y_hat)\n",
        "    second_term = (1 - Y) * np.log(1 - y_hat)\n",
        "    return -np.average(first_term + second_term)\n",
        "\n",
        "def gradient(X, Y, w):\n",
        "    return np.matmul(X.T, (forward(X, w) - Y)) / X.shape[0]\n",
        "\n",
        "def train(X, Y, iterations, lr):\n",
        "    w = np.zeros((X.shape[1], 1))\n",
        "    for i in range(iterations):\n",
        "        print(\"Iteration %4d => Loss: %.20f\" % (i, loss(X, Y, w)))\n",
        "        w -= gradient(X, Y, w) * lr\n",
        "    return w\n",
        "\n",
        "def test(X, Y, w, number=5):\n",
        "    total_examples = X.shape[0]\n",
        "    correct_results = np.sum(classify(X, w) == Y)\n",
        "    success_percent = correct_results * 100 / total_examples\n",
        "    \n",
        "    print(\"[%s] Success %d/%d: (%3.2f)\" % \n",
        "          (number, correct_results,\n",
        "           total_examples,\n",
        "           correct_results * 100 / total_examples)\n",
        "         )\n"
      ],
      "execution_count": 0,
      "outputs": []
    },
    {
      "cell_type": "markdown",
      "metadata": {
        "id": "a0gVKpiP46tR",
        "colab_type": "text"
      },
      "source": [
        "Add train and test the data!"
      ]
    },
    {
      "cell_type": "code",
      "metadata": {
        "id": "ld3Koinf4-Ib",
        "colab_type": "code",
        "colab": {
          "base_uri": "https://localhost:8080/",
          "height": 204
        },
        "outputId": "b25ab9d6-c961-4799-fa8f-3b2e18fc6998"
      },
      "source": [
        "# To bypass all the loading and preprocessing of the data.\n",
        "# mnist library handles all this for you.\n",
        "# import mnist as data\n",
        "# w = train(data.X_train, data.Y_train, iterations=100, lr=1e-5)\n",
        "# test(data.X_test, data.Y_test, w)\n",
        "\n",
        "#Learning Rates\n",
        "#lr=.0001 - Good\n",
        "#lr=.001 - Bad\n",
        "w = train(X_train, Y_train, iterations=10, lr=1e-5)\n",
        "test(X_test, Y_test, w)"
      ],
      "execution_count": 51,
      "outputs": [
        {
          "output_type": "stream",
          "text": [
            "Iteration    0 => Loss: 0.69314718055994528623\n",
            "Iteration    1 => Loss: 0.80042530259490185518\n",
            "Iteration    2 => Loss: 0.60370180008019180828\n",
            "Iteration    3 => Loss: 0.41561114405207100209\n",
            "Iteration    4 => Loss: 0.26488539455552501112\n",
            "Iteration    5 => Loss: 0.21974966586468008822\n",
            "Iteration    6 => Loss: 0.21169719667449560241\n",
            "Iteration    7 => Loss: 0.20475082478710038281\n",
            "Iteration    8 => Loss: 0.19886878484015674262\n",
            "Iteration    9 => Loss: 0.19372162858641284178\n",
            "[5] Success 9268/10000: (92.68)\n"
          ],
          "name": "stdout"
        }
      ]
    },
    {
      "cell_type": "markdown",
      "metadata": {
        "id": "MMRTb0cmEG_n",
        "colab_type": "text"
      },
      "source": [
        "Bonus: Run if for all numbers"
      ]
    },
    {
      "cell_type": "code",
      "metadata": {
        "id": "ONeEIbqDEJfZ",
        "colab_type": "code",
        "colab": {
          "base_uri": "https://localhost:8080/",
          "height": 1973
        },
        "outputId": "0f0c109a-2ad7-4800-fccf-ab10a2e259a3"
      },
      "source": [
        "def encode_number(Y, number):\n",
        "  encoded_Y = np.zeros_like(Y)\n",
        "  n_labels = Y.shape[0]\n",
        "  for i in range(n_labels):\n",
        "    if Y[i] == number: \n",
        "      encoded_Y[i][0] = 1\n",
        "  return encoded_Y\n",
        "\n",
        "for i in range(1, 10):\n",
        "  Y_train = encode_number(Y_label, i)\n",
        "  Y_test = encode_number(Y_test_label, i)\n",
        "  \n",
        "  w = train(X_train, Y_train, iterations=10, lr=1e-5)\n",
        "  test(X_test, Y_test, w, i)\n",
        "  "
      ],
      "execution_count": 34,
      "outputs": [
        {
          "output_type": "stream",
          "text": [
            "Iteration    0 => Loss: 0.69314718055994528623\n",
            "Iteration    1 => Loss: 0.63297126749254217781\n",
            "Iteration    2 => Loss: 0.40415041206134089125\n",
            "Iteration    3 => Loss: 0.20740137552095117002\n",
            "Iteration    4 => Loss: 0.10475739758236242427\n",
            "Iteration    5 => Loss: 0.08406584425996900534\n",
            "Iteration    6 => Loss: 0.08017763379914089050\n",
            "Iteration    7 => Loss: 0.07779278786107958477\n",
            "Iteration    8 => Loss: 0.07571922657128110634\n",
            "Iteration    9 => Loss: 0.07385842309425814933\n",
            "Correct Guesses for 1: 9837\n",
            "Success Precentage:\n",
            "98.37\n",
            "Iteration    0 => Loss: 18.31350302813820007941\n",
            "Iteration    1 => Loss: 1.35295391222630434491\n",
            "Iteration    2 => Loss: 28.14728995527894639395\n",
            "Iteration    3 => Loss: 49.86778039870669942957\n",
            "Iteration    4 => Loss: 35.83839687987449451612\n",
            "Iteration    5 => Loss: 81.35740667903965572805\n",
            "Iteration    6 => Loss: 38.47093873551957443624\n",
            "Iteration    7 => Loss: 103.03195754120535809761\n",
            "Iteration    8 => Loss: 57.36743613602427416254\n",
            "Iteration    9 => Loss: 113.74239471105731524858\n",
            "Correct Guesses for 2: 8612\n",
            "Success Precentage:\n",
            "86.12\n",
            "Iteration    0 => Loss: 18.82513806701551217770\n",
            "Iteration    1 => Loss: 4.81288498854326451948\n",
            "Iteration    2 => Loss: 175.57384717075183289126\n",
            "Iteration    3 => Loss: 3.46751485029515871261\n",
            "Iteration    4 => Loss: 133.70308714748026091002\n",
            "Iteration    5 => Loss: 188.22845392365442762639\n",
            "Iteration    6 => Loss: 175.29496180616663991714\n",
            "Iteration    7 => Loss: 221.20560871742708286547\n",
            "Iteration    8 => Loss: 220.95260137376413922539\n",
            "Iteration    9 => Loss: 252.00428907381774479290\n",
            "Correct Guesses for 3: 6956\n",
            "Success Precentage:\n",
            "69.56\n",
            "Iteration    0 => Loss: 17.97044138357306408693\n",
            "Iteration    1 => Loss: 13.08666137381818828089\n",
            "Iteration    2 => Loss: 184.22009037851657353713\n",
            "Iteration    3 => Loss: 10.19958931131443691243\n",
            "Iteration    4 => Loss: 185.11116225866686590962\n",
            "Iteration    5 => Loss: 196.95897857134886521635\n",
            "Iteration    6 => Loss: 230.75085740185468807795\n",
            "Iteration    7 => Loss: 250.55714055979609611313\n",
            "Iteration    8 => Loss: 277.31268190652747307468\n",
            "Iteration    9 => Loss: 300.79139838440568155420\n",
            "Correct Guesses for 4: 6346\n",
            "Success Precentage:\n",
            "63.46\n",
            "Iteration    0 => Loss: 16.72536420803925594214\n",
            "Iteration    1 => Loss: 17.66156789282095473936\n",
            "Iteration    2 => Loss: 135.91644889587522015972\n",
            "Iteration    3 => Loss: 3.27640357908142609844\n",
            "Iteration    4 => Loss: 165.00621586870840928896\n",
            "Iteration    5 => Loss: 59.92563809289013221360\n",
            "Iteration    6 => Loss: 202.75342092918378966715\n",
            "Iteration    7 => Loss: 111.06427626970601352241\n",
            "Iteration    8 => Loss: 212.71994320476062512171\n",
            "Iteration    9 => Loss: 166.63144940198458243685\n",
            "Correct Guesses for 5: 5419\n",
            "Success Precentage:\n",
            "54.19\n",
            "Iteration    0 => Loss: 18.19520590932264170192\n",
            "Iteration    1 => Loss: 179.70631442262646260133\n",
            "Iteration    2 => Loss: 141.15276700885493710302\n",
            "Iteration    3 => Loss: 462.65909988628743576555\n",
            "Iteration    4 => Loss: 389.82022204239962093197\n"
          ],
          "name": "stdout"
        },
        {
          "output_type": "stream",
          "text": [
            "/usr/local/lib/python3.6/dist-packages/ipykernel_launcher.py:18: RuntimeWarning: divide by zero encountered in log\n"
          ],
          "name": "stderr"
        },
        {
          "output_type": "stream",
          "text": [
            "Iteration    5 => Loss: inf\n",
            "Iteration    6 => Loss: inf\n",
            "Iteration    7 => Loss: inf\n",
            "Iteration    8 => Loss: inf\n",
            "Iteration    9 => Loss: inf\n",
            "Correct Guesses for 6: 4031\n",
            "Success Precentage:\n",
            "40.31\n",
            "Iteration    0 => Loss: 19.22143341504765245986\n",
            "Iteration    1 => Loss: 226.00351521287157652296\n",
            "Iteration    2 => Loss: 230.18426211367739142588\n",
            "Iteration    3 => Loss: inf\n",
            "Iteration    4 => Loss: inf\n",
            "Iteration    5 => Loss: inf\n",
            "Iteration    6 => Loss: inf\n",
            "Iteration    7 => Loss: inf\n",
            "Iteration    8 => Loss: inf\n",
            "Iteration    9 => Loss: inf\n",
            "Correct Guesses for 7: 3704\n",
            "Success Precentage:\n",
            "37.04\n",
            "Iteration    0 => Loss: 17.99705823530656445541\n",
            "Iteration    1 => Loss: 355.25793636014117282684\n"
          ],
          "name": "stdout"
        },
        {
          "output_type": "error",
          "ename": "KeyboardInterrupt",
          "evalue": "ignored",
          "traceback": [
            "\u001b[0;31m---------------------------------------------------------------------------\u001b[0m",
            "\u001b[0;31mKeyboardInterrupt\u001b[0m                         Traceback (most recent call last)",
            "\u001b[0;32m<ipython-input-34-268ae2554975>\u001b[0m in \u001b[0;36m<module>\u001b[0;34m()\u001b[0m\n\u001b[1;32m     11\u001b[0m   \u001b[0mY_test\u001b[0m \u001b[0;34m=\u001b[0m \u001b[0mencode_number\u001b[0m\u001b[0;34m(\u001b[0m\u001b[0mY_test_label\u001b[0m\u001b[0;34m,\u001b[0m \u001b[0mi\u001b[0m\u001b[0;34m)\u001b[0m\u001b[0;34m\u001b[0m\u001b[0;34m\u001b[0m\u001b[0m\n\u001b[1;32m     12\u001b[0m \u001b[0;34m\u001b[0m\u001b[0m\n\u001b[0;32m---> 13\u001b[0;31m   \u001b[0mw\u001b[0m \u001b[0;34m=\u001b[0m \u001b[0mtrain\u001b[0m\u001b[0;34m(\u001b[0m\u001b[0mX_train\u001b[0m\u001b[0;34m,\u001b[0m \u001b[0mY_train\u001b[0m\u001b[0;34m,\u001b[0m \u001b[0miterations\u001b[0m\u001b[0;34m=\u001b[0m\u001b[0;36m10\u001b[0m\u001b[0;34m,\u001b[0m \u001b[0mlr\u001b[0m\u001b[0;34m=\u001b[0m\u001b[0;36m1e-5\u001b[0m\u001b[0;34m)\u001b[0m\u001b[0;34m\u001b[0m\u001b[0;34m\u001b[0m\u001b[0m\n\u001b[0m\u001b[1;32m     14\u001b[0m   \u001b[0mtest\u001b[0m\u001b[0;34m(\u001b[0m\u001b[0mX_test\u001b[0m\u001b[0;34m,\u001b[0m \u001b[0mY_test\u001b[0m\u001b[0;34m,\u001b[0m \u001b[0mw\u001b[0m\u001b[0;34m,\u001b[0m \u001b[0mi\u001b[0m\u001b[0;34m)\u001b[0m\u001b[0;34m\u001b[0m\u001b[0;34m\u001b[0m\u001b[0m\n\u001b[1;32m     15\u001b[0m \u001b[0;34m\u001b[0m\u001b[0m\n",
            "\u001b[0;32m<ipython-input-32-bf23ae3dabf3>\u001b[0m in \u001b[0;36mtrain\u001b[0;34m(X, Y, iterations, lr)\u001b[0m\n\u001b[1;32m     26\u001b[0m     \u001b[0;32mfor\u001b[0m \u001b[0mi\u001b[0m \u001b[0;32min\u001b[0m \u001b[0mrange\u001b[0m\u001b[0;34m(\u001b[0m\u001b[0miterations\u001b[0m\u001b[0;34m)\u001b[0m\u001b[0;34m:\u001b[0m\u001b[0;34m\u001b[0m\u001b[0;34m\u001b[0m\u001b[0m\n\u001b[1;32m     27\u001b[0m         \u001b[0mprint\u001b[0m\u001b[0;34m(\u001b[0m\u001b[0;34m\"Iteration %4d => Loss: %.20f\"\u001b[0m \u001b[0;34m%\u001b[0m \u001b[0;34m(\u001b[0m\u001b[0mi\u001b[0m\u001b[0;34m,\u001b[0m \u001b[0mloss\u001b[0m\u001b[0;34m(\u001b[0m\u001b[0mX\u001b[0m\u001b[0;34m,\u001b[0m \u001b[0mY\u001b[0m\u001b[0;34m,\u001b[0m \u001b[0mw\u001b[0m\u001b[0;34m)\u001b[0m\u001b[0;34m)\u001b[0m\u001b[0;34m)\u001b[0m\u001b[0;34m\u001b[0m\u001b[0;34m\u001b[0m\u001b[0m\n\u001b[0;32m---> 28\u001b[0;31m         \u001b[0mw\u001b[0m \u001b[0;34m-=\u001b[0m \u001b[0mgradient\u001b[0m\u001b[0;34m(\u001b[0m\u001b[0mX\u001b[0m\u001b[0;34m,\u001b[0m \u001b[0mY\u001b[0m\u001b[0;34m,\u001b[0m \u001b[0mw\u001b[0m\u001b[0;34m)\u001b[0m \u001b[0;34m*\u001b[0m \u001b[0mlr\u001b[0m\u001b[0;34m\u001b[0m\u001b[0;34m\u001b[0m\u001b[0m\n\u001b[0m\u001b[1;32m     29\u001b[0m     \u001b[0;32mreturn\u001b[0m \u001b[0mw\u001b[0m\u001b[0;34m\u001b[0m\u001b[0;34m\u001b[0m\u001b[0m\n\u001b[1;32m     30\u001b[0m \u001b[0;34m\u001b[0m\u001b[0m\n",
            "\u001b[0;32m<ipython-input-32-bf23ae3dabf3>\u001b[0m in \u001b[0;36mgradient\u001b[0;34m(X, Y, w)\u001b[0m\n\u001b[1;32m     20\u001b[0m \u001b[0;34m\u001b[0m\u001b[0m\n\u001b[1;32m     21\u001b[0m \u001b[0;32mdef\u001b[0m \u001b[0mgradient\u001b[0m\u001b[0;34m(\u001b[0m\u001b[0mX\u001b[0m\u001b[0;34m,\u001b[0m \u001b[0mY\u001b[0m\u001b[0;34m,\u001b[0m \u001b[0mw\u001b[0m\u001b[0;34m)\u001b[0m\u001b[0;34m:\u001b[0m\u001b[0;34m\u001b[0m\u001b[0;34m\u001b[0m\u001b[0m\n\u001b[0;32m---> 22\u001b[0;31m     \u001b[0;32mreturn\u001b[0m \u001b[0mnp\u001b[0m\u001b[0;34m.\u001b[0m\u001b[0mmatmul\u001b[0m\u001b[0;34m(\u001b[0m\u001b[0mX\u001b[0m\u001b[0;34m.\u001b[0m\u001b[0mT\u001b[0m\u001b[0;34m,\u001b[0m \u001b[0;34m(\u001b[0m\u001b[0mforward\u001b[0m\u001b[0;34m(\u001b[0m\u001b[0mX\u001b[0m\u001b[0;34m,\u001b[0m \u001b[0mw\u001b[0m\u001b[0;34m)\u001b[0m \u001b[0;34m-\u001b[0m \u001b[0mY\u001b[0m\u001b[0;34m)\u001b[0m\u001b[0;34m)\u001b[0m \u001b[0;34m/\u001b[0m \u001b[0mX\u001b[0m\u001b[0;34m.\u001b[0m\u001b[0mshape\u001b[0m\u001b[0;34m[\u001b[0m\u001b[0;36m0\u001b[0m\u001b[0;34m]\u001b[0m\u001b[0;34m\u001b[0m\u001b[0;34m\u001b[0m\u001b[0m\n\u001b[0m\u001b[1;32m     23\u001b[0m \u001b[0;34m\u001b[0m\u001b[0m\n\u001b[1;32m     24\u001b[0m \u001b[0;32mdef\u001b[0m \u001b[0mtrain\u001b[0m\u001b[0;34m(\u001b[0m\u001b[0mX\u001b[0m\u001b[0;34m,\u001b[0m \u001b[0mY\u001b[0m\u001b[0;34m,\u001b[0m \u001b[0miterations\u001b[0m\u001b[0;34m,\u001b[0m \u001b[0mlr\u001b[0m\u001b[0;34m)\u001b[0m\u001b[0;34m:\u001b[0m\u001b[0;34m\u001b[0m\u001b[0;34m\u001b[0m\u001b[0m\n",
            "\u001b[0;32m<ipython-input-32-bf23ae3dabf3>\u001b[0m in \u001b[0;36mforward\u001b[0;34m(X, w)\u001b[0m\n\u001b[1;32m      6\u001b[0m \u001b[0;31m# through the system\u001b[0m\u001b[0;34m\u001b[0m\u001b[0;34m\u001b[0m\u001b[0;34m\u001b[0m\u001b[0m\n\u001b[1;32m      7\u001b[0m \u001b[0;32mdef\u001b[0m \u001b[0mforward\u001b[0m\u001b[0;34m(\u001b[0m\u001b[0mX\u001b[0m\u001b[0;34m,\u001b[0m \u001b[0mw\u001b[0m\u001b[0;34m)\u001b[0m\u001b[0;34m:\u001b[0m\u001b[0;34m\u001b[0m\u001b[0;34m\u001b[0m\u001b[0m\n\u001b[0;32m----> 8\u001b[0;31m     \u001b[0mweighted_sum\u001b[0m \u001b[0;34m=\u001b[0m \u001b[0mnp\u001b[0m\u001b[0;34m.\u001b[0m\u001b[0mmatmul\u001b[0m\u001b[0;34m(\u001b[0m\u001b[0mX\u001b[0m\u001b[0;34m,\u001b[0m \u001b[0mw\u001b[0m\u001b[0;34m)\u001b[0m\u001b[0;34m\u001b[0m\u001b[0;34m\u001b[0m\u001b[0m\n\u001b[0m\u001b[1;32m      9\u001b[0m     \u001b[0;32mreturn\u001b[0m \u001b[0msigmoid\u001b[0m\u001b[0;34m(\u001b[0m\u001b[0mweighted_sum\u001b[0m\u001b[0;34m)\u001b[0m\u001b[0;34m\u001b[0m\u001b[0;34m\u001b[0m\u001b[0m\n\u001b[1;32m     10\u001b[0m \u001b[0;34m\u001b[0m\u001b[0m\n",
            "\u001b[0;31mKeyboardInterrupt\u001b[0m: "
          ]
        }
      ]
    }
  ]
}