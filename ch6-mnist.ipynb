{
  "nbformat": 4,
  "nbformat_minor": 0,
  "metadata": {
    "colab": {
      "name": "Untitled0.ipynb",
      "version": "0.3.2",
      "provenance": [],
      "collapsed_sections": [],
      "include_colab_link": true
    },
    "kernelspec": {
      "name": "python3",
      "display_name": "Python 3"
    }
  },
  "cells": [
    {
      "cell_type": "markdown",
      "metadata": {
        "id": "view-in-github",
        "colab_type": "text"
      },
      "source": [
        "<a href=\"https://colab.research.google.com/github/jstralko/lnl-machine-learning/blob/master/ch6-mnist.ipynb\" target=\"_parent\"><img src=\"https://colab.research.google.com/assets/colab-badge.svg\" alt=\"Open In Colab\"/></a>"
      ]
    },
    {
      "cell_type": "markdown",
      "metadata": {
        "id": "QYlw3n7spZtI",
        "colab_type": "text"
      },
      "source": [
        "\n",
        "Here’s the code that loads MNIST images into X:"
      ]
    },
    {
      "cell_type": "code",
      "metadata": {
        "id": "Zfxfl4-4pmSV",
        "colab_type": "code",
        "colab": {}
      },
      "source": [
        "import numpy as np\n",
        "import gzip\n",
        "import struct\n",
        "import requests\n",
        "import io\n",
        "\n",
        "def fetch_file(filename):\n",
        "  \n",
        "  r = requests.get(f'https://raw.githubusercontent.com/lazyprogrammer/machine_learning_examples/master/tensorflow/MNIST_data/' + filename)\n",
        "  return io.BytesIO(r.content)\n",
        "\n",
        "def load_images(filename):\n",
        "  \n",
        "  # Open and unzip the file of images:\n",
        "  with gzip.open(fetch_file(filename), 'rb') as f:\n",
        "  \n",
        "    # Read the header information into a bunch of variables:\n",
        "    _ignored, n_images, columns, rows = struct.unpack('>IIII', f.read(16))\n",
        "    # Read all the pixels into a NumPy array:\n",
        "    all_pixels = np.frombuffer(f.read(), dtype=np.uint8)\n",
        "  \n",
        "    # Reshape the pixels into a matrix where each line is an image:\n",
        "    return all_pixels.reshape(n_images, columns * rows)\n",
        "\n",
        "def prepend_bias(X):\n",
        "  # Insert a column of 1s in the position 0 of X.\n",
        "  # (“axis=1” stands for: “insert a column, not a row”)\n",
        "  return np.insert(X, 0, 1, axis=1)\n",
        "  \n",
        "# 60000 images, each 785 elements (1 bias + 28 * 28 pixels)\n",
        "X_train = prepend_bias(load_images(\"train-images-idx3-ubyte.gz\"))\n",
        "# 10000 images, each 785 elements, with the same structure as X_train\n",
        "X_test = prepend_bias(load_images(\"t10k-images-idx3-ubyte.gz\"))"
      ],
      "execution_count": 0,
      "outputs": []
    },
    {
      "cell_type": "markdown",
      "metadata": {
        "id": "xYFyEuxlr028",
        "colab_type": "text"
      },
      "source": [
        "Should have training and test data. See X_train, X_test"
      ]
    },
    {
      "cell_type": "code",
      "metadata": {
        "id": "1kDxZAUxr5ct",
        "colab_type": "code",
        "colab": {
          "base_uri": "https://localhost:8080/",
          "height": 51
        },
        "outputId": "827af0cd-d395-490f-c37c-d114df74bca0"
      },
      "source": [
        "print(X_train.shape)\n",
        "print(X_test.shape)"
      ],
      "execution_count": 10,
      "outputs": [
        {
          "output_type": "stream",
          "text": [
            "(60000, 785)\n",
            "(10000, 785)\n"
          ],
          "name": "stdout"
        }
      ]
    },
    {
      "cell_type": "markdown",
      "metadata": {
        "id": "5TGx0C8exB_N",
        "colab_type": "text"
      },
      "source": [
        "This code loads and prepares MNIST’s labels:"
      ]
    },
    {
      "cell_type": "code",
      "metadata": {
        "id": "UFlpeFEqxC3e",
        "colab_type": "code",
        "colab": {}
      },
      "source": [
        "def load_labels(filename):\n",
        "  # Open and unzip the file of images:\n",
        "  with gzip.open(filename, 'rb') as f:\n",
        "  # Skip the header bytes:\n",
        "  f.read(8)\n",
        "  # Read all the labels into a list:\n",
        "  all_labels = f.read()\n",
        "  # Reshape the list of labels into a one-column matrix:\n",
        "  return np.frombuffer(all_labels, dtype=np.uint8).reshape(-1, 1)\n",
        "\n",
        "def encode_fives(Y):\n",
        "  encoded_Y = np.zeros_like(Y) n_labels = Y.shape[0]\n",
        "  for i in range(n_labels):\n",
        "    if Y[i] == 5: encoded_Y[i][0] = 1\n",
        "      return encoded_Y\n",
        "\n",
        "# 60K labels, each with value 1 if the digit is a five, and 0 otherwise\n",
        "Y_train = encode_fives(load_labels(\"../data/mnist/train-labels-idx1-ubyte.gz\"))  10000 labels, with the same encoding as Y_train\n",
        "Y_test = encode_fives(load_labels(\"../data/mnist/t10k-labels-idx1-ubyte.gz\"))"
      ],
      "execution_count": 0,
      "outputs": []
    }
  ]
}