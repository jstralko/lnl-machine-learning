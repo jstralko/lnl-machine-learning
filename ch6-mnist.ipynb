{
  "nbformat": 4,
  "nbformat_minor": 0,
  "metadata": {
    "colab": {
      "name": "Untitled0.ipynb",
      "version": "0.3.2",
      "provenance": [],
      "collapsed_sections": [],
      "include_colab_link": true
    },
    "kernelspec": {
      "name": "python3",
      "display_name": "Python 3"
    }
  },
  "cells": [
    {
      "cell_type": "markdown",
      "metadata": {
        "id": "view-in-github",
        "colab_type": "text"
      },
      "source": [
        "<a href=\"https://colab.research.google.com/github/jstralko/lnl-machine-learning/blob/master/ch6-mnist.ipynb\" target=\"_parent\"><img src=\"https://colab.research.google.com/assets/colab-badge.svg\" alt=\"Open In Colab\"/></a>"
      ]
    },
    {
      "cell_type": "markdown",
      "metadata": {
        "id": "QYlw3n7spZtI",
        "colab_type": "text"
      },
      "source": [
        "\n",
        "Here’s the code that loads MNIST images into X:"
      ]
    },
    {
      "cell_type": "code",
      "metadata": {
        "id": "Zfxfl4-4pmSV",
        "colab_type": "code",
        "colab": {}
      },
      "source": [
        "import numpy as np\n",
        "import gzip\n",
        "import struct\n",
        "import requests\n",
        "import io\n",
        "\n",
        "def fetch_file(filename):\n",
        "  r = requests.get('https://raw.githubusercontent.com/lazyprogrammer/machine_learning_examples/master/tensorflow/MNIST_data/' + filename)\n",
        "  return io.BytesIO(r.content)\n",
        "\n",
        "def load_images(filename):\n",
        "  \n",
        "  # Open and unzip the file of images:\n",
        "  with gzip.open(fetch_file(filename), 'rb') as f:\n",
        "  \n",
        "    # Read the header information into a bunch of variables:\n",
        "    _ignored, n_images, columns, rows = struct.unpack('>IIII', f.read(16))\n",
        "    # Read all the pixels into a NumPy array:\n",
        "    all_pixels = np.frombuffer(f.read(), dtype=np.uint8)\n",
        "  \n",
        "    # Reshape the pixels into a matrix where each line is an image:\n",
        "    return all_pixels.reshape(n_images, columns * rows)\n",
        "\n",
        "def prepend_bias(X):\n",
        "  # Insert a column of 1s in the position 0 of X.\n",
        "  # (“axis=1” stands for: “insert a column, not a row”)\n",
        "  return np.insert(X, 0, 1, axis=1)\n",
        "  \n",
        "# 60000 images, each 785 elements (1 bias + 28 * 28 pixels)\n",
        "X_train = prepend_bias(load_images(\"train-images-idx3-ubyte.gz\"))\n",
        "# 10000 images, each 785 elements, with the same structure as X_train\n",
        "X_test = prepend_bias(load_images(\"t10k-images-idx3-ubyte.gz\"))"
      ],
      "execution_count": 0,
      "outputs": []
    },
    {
      "cell_type": "markdown",
      "metadata": {
        "id": "xYFyEuxlr028",
        "colab_type": "text"
      },
      "source": [
        "Should have training and test data. See X_train, X_test\n",
        "\n",
        "```\n",
        "(60000, 785)\n",
        "(10000, 785)\n",
        "```"
      ]
    },
    {
      "cell_type": "code",
      "metadata": {
        "id": "1kDxZAUxr5ct",
        "colab_type": "code",
        "outputId": "fd134bb0-9eed-46b9-92f3-efd89aad96c7",
        "colab": {
          "base_uri": "https://localhost:8080/",
          "height": 136
        }
      },
      "source": [
        "print(X_train.shape)\n",
        "print(X_test.shape)\n",
        "\n",
        "#See the bias loaded\n",
        "for i in range (0,5):\n",
        "  print(X_train[i][0])"
      ],
      "execution_count": 27,
      "outputs": [
        {
          "output_type": "stream",
          "text": [
            "(60000, 785)\n",
            "(10000, 785)\n",
            "1\n",
            "1\n",
            "1\n",
            "1\n",
            "1\n"
          ],
          "name": "stdout"
        }
      ]
    },
    {
      "cell_type": "markdown",
      "metadata": {
        "id": "5TGx0C8exB_N",
        "colab_type": "text"
      },
      "source": [
        "This code loads and prepares MNIST’s labels:"
      ]
    },
    {
      "cell_type": "code",
      "metadata": {
        "id": "UFlpeFEqxC3e",
        "colab_type": "code",
        "colab": {}
      },
      "source": [
        "def load_labels(filename):\n",
        "  # Open and unzip the file of images:\n",
        "  with gzip.open(fetch_file(filename), 'rb') as f:\n",
        "    # Skip the header bytes:\n",
        "    f.read(8)\n",
        "    \n",
        "    # Read all the labels into a list:\n",
        "    all_labels = f.read()\n",
        "    \n",
        "    # Reshape the list of labels into a one-column matrix:\n",
        "    return np.frombuffer(all_labels, dtype=np.uint8).reshape(-1, 1)\n",
        "\n",
        "def encode_fives(Y):\n",
        "  encoded_Y = np.zeros_like(Y)\n",
        "  n_labels = Y.shape[0]\n",
        "  for i in range(n_labels):\n",
        "    if Y[i] == 5: \n",
        "      encoded_Y[i][0] = 1\n",
        "  return encoded_Y\n",
        "\n",
        "# 60K labels, each with value 1 if the digit is a five, and 0 otherwise\n",
        "Y_train = encode_fives(load_labels(\"train-labels-idx1-ubyte.gz\"))\n",
        "# 10000 labels, with the same encoding as Y_train\n",
        "Y_test = encode_fives(load_labels(\"t10k-labels-idx1-ubyte.gz\"))"
      ],
      "execution_count": 0,
      "outputs": []
    },
    {
      "cell_type": "markdown",
      "metadata": {
        "id": "XbSxuqluzeSE",
        "colab_type": "text"
      },
      "source": [
        "Should be this:\n",
        "\n",
        "```\n",
        "(60000, 1)\n",
        "(10000, 1)\n",
        "```"
      ]
    },
    {
      "cell_type": "code",
      "metadata": {
        "id": "y881NduOzgMi",
        "colab_type": "code",
        "colab": {
          "base_uri": "https://localhost:8080/",
          "height": 85
        },
        "outputId": "bb0434cc-f014-4c75-b8ef-77f8aac26b0f"
      },
      "source": [
        "print(Y_train.shape)\n",
        "print(Y_test.shape)\n",
        "\n",
        "oneCnt = 0;\n",
        "zeroCnt = 0;\n",
        "for i in range(len(Y_train)):\n",
        "  if Y_train[i][0] == 1:\n",
        "    oneCnt += 1\n",
        "  else:\n",
        "    zeroCnt += 1\n",
        "    \n",
        "print(oneCnt)\n",
        "print(zeroCnt)"
      ],
      "execution_count": 29,
      "outputs": [
        {
          "output_type": "stream",
          "text": [
            "(60000, 1)\n",
            "(10000, 1)\n",
            "5421\n",
            "54579\n"
          ],
          "name": "stdout"
        }
      ]
    },
    {
      "cell_type": "markdown",
      "metadata": {
        "id": "lNTqBIVr3NoU",
        "colab_type": "text"
      },
      "source": [
        "The fun part. First add the Logistic Regress from chapter 5:"
      ]
    },
    {
      "cell_type": "code",
      "metadata": {
        "id": "z_dbu9Db3Pdu",
        "colab_type": "code",
        "colab": {}
      },
      "source": [
        "#Chapter 5: page 66\n",
        "\n",
        "def sigmoid(z):\n",
        "    return 1 / (1 + np.exp(-z))\n",
        "\n",
        "# Forward propagation: moving data\n",
        "# through the system\n",
        "def forward(X, w):\n",
        "    weighted_sum = np.matmul(X, w)\n",
        "    return sigmoid(weighted_sum)\n",
        "\n",
        "#Formerly predict()\n",
        "def classify(X, w):\n",
        "    return np.round(forward(X, w))\n",
        "\n",
        "def loss(X, Y, w):\n",
        "    y_hat = forward(X, w)\n",
        "    first_term = Y * np.log(y_hat)\n",
        "    second_term = (1 - Y) * np.log(1 - y_hat)\n",
        "    return -np.average(first_term + second_term)\n",
        "\n",
        "def gradient(X, Y, w):\n",
        "    return np.matmul(X.T, (forward(X, w) - Y)) / X.shape[0]\n",
        "\n",
        "def train(X, Y, iterations, lr):\n",
        "    w = np.zeros((X.shape[1], 1))\n",
        "    for i in range(iterations):\n",
        "        print(\"Iteration %4d => Loss: %.20f\" % (i, loss(X, Y, w)))\n",
        "        w -= gradient(X, Y, w) * lr\n",
        "    return w\n",
        "\n",
        "def test(X, Y, w):\n",
        "    total_examples = X.shape[0]\n",
        "    correct_results = np.sum(classify(X, w) == Y)\n",
        "    success_percent = correct_results * 100 / total_examples\n",
        "    \n",
        "    #print(\"\\nSuccess: %d/%d (%.2f%%)\" & (correct_results, total_examples, success_percent))\n",
        "    print(\"\\nSuccess: %d\".format(100))\n"
      ],
      "execution_count": 0,
      "outputs": []
    },
    {
      "cell_type": "markdown",
      "metadata": {
        "id": "a0gVKpiP46tR",
        "colab_type": "text"
      },
      "source": [
        "Add train and test the data!"
      ]
    },
    {
      "cell_type": "code",
      "metadata": {
        "id": "ld3Koinf4-Ib",
        "colab_type": "code",
        "colab": {
          "base_uri": "https://localhost:8080/",
          "height": 68
        },
        "outputId": "e37b400e-1ed3-4118-af40-84add088255a"
      },
      "source": [
        "# To bypass all the loading and preprocessing of the data.\n",
        "# mnist library handles all this for you.\n",
        "# import mnist as data\n",
        "# w = train(data.X_train, data.Y_train, iterations=100, lr=1e-5)\n",
        "# test(data.X_test, data.Y_test, w)\n",
        "\n",
        "w = train(X_train, Y_train, iterations=1, lr=1e-5)\n",
        "test(X_test, Y_test, w)"
      ],
      "execution_count": 58,
      "outputs": [
        {
          "output_type": "stream",
          "text": [
            "Iteration    0 => Loss: 0.69314718055994528623\n",
            "\n",
            "Success: %d\n"
          ],
          "name": "stdout"
        }
      ]
    }
  ]
}